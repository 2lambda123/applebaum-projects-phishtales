{
 "cells": [
  {
   "cell_type": "markdown",
   "id": "dd6d6ecb",
   "metadata": {},
   "source": [
    "# Feature Engineering\n",
    "### Create combined dataframe with phishing and legitimate URLs"
   ]
  },
  {
   "cell_type": "code",
   "execution_count": 33,
   "id": "cbed66c7",
   "metadata": {},
   "outputs": [
    {
     "data": {
      "text/plain": [
       "(10000, 2)"
      ]
     },
     "execution_count": 33,
     "metadata": {},
     "output_type": "execute_result"
    }
   ],
   "source": [
    "#Phishing URLs\n",
    "import pandas as pd\n",
    "\n",
    "phishing = pd.read_csv('phishing.csv')\n",
    "phish = phishing.sample(n=2000, replace=False)\n",
    "phish.shape"
   ]
  },
  {
   "cell_type": "code",
   "execution_count": 34,
   "id": "33b63cc7",
   "metadata": {},
   "outputs": [
    {
     "data": {
      "text/plain": [
       "(10000, 2)"
      ]
     },
     "execution_count": 34,
     "metadata": {},
     "output_type": "execute_result"
    }
   ],
   "source": [
    "#Select 75,000 legitimate URLs to be used (will shrink down once offline URLs are removed)\n",
    "legitimate = pd.read_csv('legitimate.csv')\n",
    "legit = legitimate.sample(n=2000, replace=False)\n",
    "legit.shape"
   ]
  },
  {
   "cell_type": "code",
   "execution_count": 35,
   "id": "314cab87",
   "metadata": {},
   "outputs": [
    {
     "data": {
      "text/html": [
       "<div>\n",
       "<style scoped>\n",
       "    .dataframe tbody tr th:only-of-type {\n",
       "        vertical-align: middle;\n",
       "    }\n",
       "\n",
       "    .dataframe tbody tr th {\n",
       "        vertical-align: top;\n",
       "    }\n",
       "\n",
       "    .dataframe thead th {\n",
       "        text-align: right;\n",
       "    }\n",
       "</style>\n",
       "<table border=\"1\" class=\"dataframe\">\n",
       "  <thead>\n",
       "    <tr style=\"text-align: right;\">\n",
       "      <th></th>\n",
       "      <th>url</th>\n",
       "      <th>label</th>\n",
       "    </tr>\n",
       "  </thead>\n",
       "  <tbody>\n",
       "    <tr>\n",
       "      <th>666436</th>\n",
       "      <td>https://zro2hro.com</td>\n",
       "      <td>0</td>\n",
       "    </tr>\n",
       "    <tr>\n",
       "      <th>284278</th>\n",
       "      <td>https://rxweb.co.uk</td>\n",
       "      <td>0</td>\n",
       "    </tr>\n",
       "    <tr>\n",
       "      <th>684785</th>\n",
       "      <td>https://liveagent.fr</td>\n",
       "      <td>0</td>\n",
       "    </tr>\n",
       "    <tr>\n",
       "      <th>598027</th>\n",
       "      <td>https://brettonwoodhighschool.co.za</td>\n",
       "      <td>0</td>\n",
       "    </tr>\n",
       "    <tr>\n",
       "      <th>838153</th>\n",
       "      <td>https://funbim.com</td>\n",
       "      <td>0</td>\n",
       "    </tr>\n",
       "  </tbody>\n",
       "</table>\n",
       "</div>"
      ],
      "text/plain": [
       "                                        url  label\n",
       "666436                  https://zro2hro.com      0\n",
       "284278                  https://rxweb.co.uk      0\n",
       "684785                 https://liveagent.fr      0\n",
       "598027  https://brettonwoodhighschool.co.za      0\n",
       "838153                   https://funbim.com      0"
      ]
     },
     "execution_count": 35,
     "metadata": {},
     "output_type": "execute_result"
    }
   ],
   "source": [
    "#Add https:// to legit URL if not already present\n",
    "legit[\"url\"] = legit[\"url\"].apply(lambda x: \"https://\" + x if not x.startswith(\"https://\") and not x.startswith(\"http://\") else x)\n",
    "legit.head()"
   ]
  },
  {
   "cell_type": "code",
   "execution_count": 36,
   "id": "12ae5934",
   "metadata": {},
   "outputs": [
    {
     "data": {
      "text/plain": [
       "(20000, 2)"
      ]
     },
     "execution_count": 36,
     "metadata": {},
     "output_type": "execute_result"
    }
   ],
   "source": [
    "#Combine dataframe and shuffle data\n",
    "df = pd.concat([phish, legit], ignore_index=True).sample(frac=1).reset_index(drop=True)\n",
    "df.shape"
   ]
  },
  {
   "cell_type": "markdown",
   "id": "d72f9fc7",
   "metadata": {},
   "source": [
    "## URL-Based Features\n",
    "     Features are extracted from the URL itself.\n",
    "     Features include: \n",
    "        1. Presence of IP Address in the URL\n",
    "        2. Presence of '@' in the URL\n",
    "        3. URL Length\n",
    "        4. The presence of redirection in the URL\n",
    "        5. Use of URL Shortening Services\n",
    "        6. The presence of sensitive words\n",
    "        7. Number of subdomains\n",
    "        8. Having a hyphen '-' in the domain name"
   ]
  },
  {
   "cell_type": "markdown",
   "id": "02bb4b14",
   "metadata": {},
   "source": [
    "\n",
    "### Feature 1: Presence of IP Address in URL\n",
    "#### This is common in phishing scams"
   ]
  },
  {
   "cell_type": "code",
   "execution_count": 37,
   "id": "61d74f1b",
   "metadata": {},
   "outputs": [],
   "source": [
    "import ipaddress\n",
    "from urllib.parse import urlparse\n",
    "def usesIP(url):\n",
    "    try:\n",
    "        ip = ipaddress.ip_address(url)\n",
    "        return 1\n",
    "    except:\n",
    "        return 0"
   ]
  },
  {
   "cell_type": "markdown",
   "id": "72393c35",
   "metadata": {},
   "source": [
    "### Feature 2: Presence of '@' Symbol in URL\n",
    "#### The '@' symbol ignores all text proceeding it and is common in phishing scams"
   ]
  },
  {
   "cell_type": "code",
   "execution_count": 38,
   "id": "044d04c9",
   "metadata": {},
   "outputs": [],
   "source": [
    "def hasAt(url):\n",
    "    if '@' in url:\n",
    "        return 1\n",
    "    else:\n",
    "        return 0"
   ]
  },
  {
   "cell_type": "markdown",
   "id": "68ad4c4b",
   "metadata": {},
   "source": [
    "### Feature 3: URL Length\n",
    "#### Longer URLs tend to be associated with phishing scams"
   ]
  },
  {
   "cell_type": "code",
   "execution_count": 39,
   "id": "5c1a24bd",
   "metadata": {},
   "outputs": [],
   "source": [
    "def url_length(url):\n",
    "    length = len(url)\n",
    "    return length"
   ]
  },
  {
   "cell_type": "markdown",
   "id": "e5e58b78",
   "metadata": {},
   "source": [
    "### Feature 4: Redirection\n",
    "#### The presence of '//' in a URL means that redirection is present. This is common in phishing scams\n",
    "#### Checks after the 8th index to ensure that https or http is not caught"
   ]
  },
  {
   "cell_type": "code",
   "execution_count": 40,
   "id": "83f7e946",
   "metadata": {},
   "outputs": [],
   "source": [
    "import re\n",
    "def redirect(url):\n",
    "    if url[8:].find('//') >= 0:\n",
    "        return 1\n",
    "    else:\n",
    "        return 0"
   ]
  },
  {
   "cell_type": "markdown",
   "id": "fa5da59f",
   "metadata": {},
   "source": [
    "### Feature 5: URL Shortening\n",
    "#### Check for the presence of common URL shortening links which cause a redirection and are common in scams"
   ]
  },
  {
   "cell_type": "code",
   "execution_count": 41,
   "id": "b0cfe1db",
   "metadata": {},
   "outputs": [],
   "source": [
    "def isShort(url):\n",
    "    shortening_services = r\"bit\\.ly|goo\\.gl|shorte\\.st|go2l\\.ink|x\\.co|ow\\.ly|t\\.co|tinyurl|tr\\.im|is\\.gd|cli\\.gs|\" \\\n",
    "                      r\"yfrog\\.com|migre\\.me|ff\\.im|tiny\\.cc|url4\\.eu|twit\\.ac|su\\.pr|twurl\\.nl|snipurl\\.com|\" \\\n",
    "                      r\"short\\.to|BudURL\\.com|ping\\.fm|post\\.ly|Just\\.as|bkite\\.com|snipr\\.com|fic\\.kr|loopt\\.us|\" \\\n",
    "                      r\"doiop\\.com|short\\.ie|kl\\.am|wp\\.me|rubyurl\\.com|om\\.ly|to\\.ly|bit\\.do|t\\.co|lnkd\\.in|db\\.tt|\" \\\n",
    "                      r\"qr\\.ae|adf\\.ly|goo\\.gl|bitly\\.com|cur\\.lv|tinyurl\\.com|ow\\.ly|bit\\.ly|ity\\.im|q\\.gs|is\\.gd|\" \\\n",
    "                      r\"po\\.st|bc\\.vc|twitthis\\.com|u\\.to|j\\.mp|buzurl\\.com|cutt\\.us|u\\.bb|yourls\\.org|x\\.co|\" \\\n",
    "                      r\"prettylinkpro\\.com|scrnch\\.me|filoops\\.info|vzturl\\.com|qr\\.net|1url\\.com|tweez\\.me|v\\.gd|\" \\\n",
    "                      r\"tr\\.im|link\\.zip\\.net\"\n",
    "    \n",
    "    if re.search(shortening_services,url):\n",
    "        return 1\n",
    "    else:\n",
    "        return 0"
   ]
  },
  {
   "cell_type": "markdown",
   "id": "56c60f83",
   "metadata": {},
   "source": [
    "### Feature 6: Presence of Sensitive Words\n",
    "#### Phishing URLs commonly have sensitive words such as those listed below to trick unsuspecting users"
   ]
  },
  {
   "cell_type": "code",
   "execution_count": 42,
   "id": "01796300",
   "metadata": {},
   "outputs": [],
   "source": [
    "def check_sensitive_words(url):\n",
    "    sensitive_words = r\"Password|Account|Login|Verify|Security|Update|Payment|Card|Bank|Alert|Access|\" \\\n",
    "                            r\"Confirm|Information|Identity|Social Security|Verification|Fraud|Suspended|Limited|\" \\\n",
    "                            r\"Urgent|Unusual|Unauthorised|Suspicious|Lock|Reset|Expired|Invalid|Disabled|Termination|\" \\\n",
    "                            r\"Deactivation|Hack|Breach|Compromised|Phishing|Scam|Fake|Spam|Spoof|Spoofing|Impersonation|\" \\\n",
    "                            r\"Emergency|Critical|Failure|Error|Warning|Alert|Threat|Danger|Attack|Virus\"\n",
    "    if re.search(sensitive_words, url, flags=re.IGNORECASE):\n",
    "        return 1\n",
    "    else:\n",
    "        return 0"
   ]
  },
  {
   "cell_type": "markdown",
   "id": "503224ee",
   "metadata": {},
   "source": [
    "### Feature 7: Number of Subdomains\n",
    "#### Phishing scams commonly have a higher number of subdomains"
   ]
  },
  {
   "cell_type": "code",
   "execution_count": 43,
   "id": "54a0847a",
   "metadata": {},
   "outputs": [],
   "source": [
    "import tldextract\n",
    "def count_subdomains(url):\n",
    "    subdomains = tldextract.extract(url).subdomain.split('.')\n",
    "    return len(subdomains)"
   ]
  },
  {
   "cell_type": "markdown",
   "id": "879af279",
   "metadata": {},
   "source": [
    "### Feature 8: Presence of '-' in Domain\n",
    "#### This is common in phishing scams to appear to be a legitimate common website"
   ]
  },
  {
   "cell_type": "code",
   "execution_count": 44,
   "id": "167414f2",
   "metadata": {},
   "outputs": [],
   "source": [
    "import urllib\n",
    "def isHyphen(url):\n",
    "    if '-' in urlparse(url).netloc:\n",
    "        return 1            \n",
    "    else:\n",
    "        return 0   "
   ]
  },
  {
   "cell_type": "markdown",
   "id": "fdc09fa4",
   "metadata": {},
   "source": [
    "## HTML and Javascript-Based Features\n",
    "     Features are extracted from the domain.\n",
    "     Features include: \n",
    "        1. IFrame redirection\n",
    "        2. Status bar customization\n",
    "        3. Disabling right-click\n",
    "        4. Number of redirects"
   ]
  },
  {
   "cell_type": "markdown",
   "id": "cc3fbed8",
   "metadata": {},
   "source": [
    "### Feature 9: HTML Redirection\n",
    "#### Check for IFrame tags which is HTML redirection commonly present in phishing scams"
   ]
  },
  {
   "cell_type": "code",
   "execution_count": 45,
   "id": "6ba8024a",
   "metadata": {},
   "outputs": [],
   "source": [
    "import re\n",
    "import requests\n",
    "def htmlredir(response):\n",
    "    if response == \"\":\n",
    "        return 0\n",
    "    if re.findall(r\"[|]\", response.text):\n",
    "        return 1\n",
    "    else:\n",
    "        return 0"
   ]
  },
  {
   "cell_type": "markdown",
   "id": "dc028e4b",
   "metadata": {},
   "source": [
    "### Feature 10: Status Bar Customization\n",
    "#### Status bar customization commonly can hide the URL of hyperlinks and is associated with phishing"
   ]
  },
  {
   "cell_type": "code",
   "execution_count": 46,
   "id": "6a938c4f",
   "metadata": {},
   "outputs": [],
   "source": [
    "from bs4 import BeautifulSoup\n",
    "def check_status_bar(response):\n",
    "    if response == \"\":\n",
    "        return 0\n",
    "    soup = BeautifulSoup(response.content, 'html.parser')\n",
    "    anchors = soup.find_all('a')\n",
    "    for anchor in anchors:\n",
    "        if anchor.get('title') != None and len(anchor.get('title')) > 0:\n",
    "            return 1\n",
    "    return 0"
   ]
  },
  {
   "cell_type": "markdown",
   "id": "0d52f739",
   "metadata": {},
   "source": [
    "### Feature 11: Disabling Right-Click\n",
    "#### Another common phishing feature"
   ]
  },
  {
   "cell_type": "code",
   "execution_count": 47,
   "id": "8cc588b4",
   "metadata": {},
   "outputs": [],
   "source": [
    "def rightClick(response):\n",
    "  if response == \"\":\n",
    "    return 0\n",
    "  else:\n",
    "    if re.findall(r\"event.button ?== ?2\", response.text):\n",
    "      return 1\n",
    "    else:\n",
    "      return 0"
   ]
  },
  {
   "cell_type": "markdown",
   "id": "acdc7d0c",
   "metadata": {},
   "source": [
    "### Feature 12: Number of Redirects\n",
    "#### Phishing links commonly contain a higher number of redirects in their HTML"
   ]
  },
  {
   "cell_type": "code",
   "execution_count": 48,
   "id": "28e9cbb8",
   "metadata": {},
   "outputs": [],
   "source": [
    "def forwarding(response):\n",
    "  if response == \"\":\n",
    "    return 0\n",
    "  else:\n",
    "    if len(response.history) <= 2:\n",
    "      return 1\n",
    "    else:\n",
    "      return 0"
   ]
  },
  {
   "cell_type": "markdown",
   "id": "efd0c324",
   "metadata": {},
   "source": [
    "# Create new DataFrame based off of features"
   ]
  },
  {
   "cell_type": "code",
   "execution_count": 49,
   "id": "bcb4d41b",
   "metadata": {},
   "outputs": [],
   "source": [
    "from urllib.parse import urlparse\n",
    "def feature_extraction(url, label):\n",
    "    features = []\n",
    "    #URL-based features\n",
    "    features.append(usesIP(urlparse(url).hostname))\n",
    "    features.append(hasAt(url))\n",
    "    features.append(url_length(url))\n",
    "    features.append(redirect(url))\n",
    "    features.append(isShort(url))\n",
    "    features.append(check_sensitive_words(url))\n",
    "    features.append(count_subdomains(url))\n",
    "    features.append(isHyphen(url))\n",
    "\n",
    "    #HTML and Javascript-based features\n",
    "    #try:\n",
    "        #response = requests.get(url)\n",
    "    #except:\n",
    "        #response = \"\"\n",
    "    #features.append(htmlredir(response))\n",
    "    #features.append(check_status_bar(response))\n",
    "    #features.append(rightClick(response))\n",
    "    #features.append(forwarding(response))\n",
    "    \n",
    "    features.append(label)\n",
    "    \n",
    "    return features"
   ]
  },
  {
   "cell_type": "code",
   "execution_count": 50,
   "id": "16e1c1cb",
   "metadata": {},
   "outputs": [],
   "source": [
    "#Extract features for all entries\n",
    "final_features = []\n",
    "for i in range(0, 20000):\n",
    "    url = df['url'][i]\n",
    "    label = df['label'][i]\n",
    "    final_features.append(feature_extraction(url,label))"
   ]
  },
  {
   "cell_type": "code",
   "execution_count": 51,
   "id": "74cbf4d3",
   "metadata": {},
   "outputs": [],
   "source": [
    "#Create featurized dataframe\n",
    "feature_names = ['IP', '@', 'length', 'redirected', 'shortened', 'sensitive', 'subDomains', 'hyphen', 'Label']\n",
    "\n",
    "data = pd.DataFrame(final_features, columns= feature_names)"
   ]
  },
  {
   "cell_type": "code",
   "execution_count": 52,
   "id": "af742449",
   "metadata": {},
   "outputs": [],
   "source": [
    "#Store data as a csv\n",
    "data.to_csv('data.csv', index=False)"
   ]
  },
  {
   "cell_type": "code",
   "execution_count": null,
   "id": "ef90d414",
   "metadata": {},
   "outputs": [],
   "source": []
  }
 ],
 "metadata": {
  "kernelspec": {
   "display_name": "Python 3 (ipykernel)",
   "language": "python",
   "name": "python3"
  },
  "language_info": {
   "codemirror_mode": {
    "name": "ipython",
    "version": 3
   },
   "file_extension": ".py",
   "mimetype": "text/x-python",
   "name": "python",
   "nbconvert_exporter": "python",
   "pygments_lexer": "ipython3",
   "version": "3.10.6"
  }
 },
 "nbformat": 4,
 "nbformat_minor": 5
}

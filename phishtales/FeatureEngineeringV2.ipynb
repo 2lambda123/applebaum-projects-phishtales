{
 "cells": [
  {
   "cell_type": "markdown",
   "id": "dd6d6ecb",
   "metadata": {},
   "source": [
    "# Feature Engineering\n",
    "### Create combined dataframe with phishing and legitimate URLs"
   ]
  },
  {
   "cell_type": "code",
   "execution_count": 10,
   "id": "cbed66c7",
   "metadata": {},
   "outputs": [
    {
     "data": {
      "text/plain": [
       "(2000, 2)"
      ]
     },
     "execution_count": 10,
     "metadata": {},
     "output_type": "execute_result"
    }
   ],
   "source": [
    "#Phishing URLs\n",
    "import pandas as pd\n",
    "\n",
    "phishing = pd.read_csv('DataSets/phishing.csv')\n",
    "phish = phishing.sample(n=2000, replace=False)\n",
    "phish.shape"
   ]
  },
  {
   "cell_type": "code",
   "execution_count": 11,
   "id": "33b63cc7",
   "metadata": {},
   "outputs": [
    {
     "data": {
      "text/plain": [
       "(2000, 2)"
      ]
     },
     "execution_count": 11,
     "metadata": {},
     "output_type": "execute_result"
    }
   ],
   "source": [
    "#Select 75,000 legitimate URLs to be used (will shrink down once offline URLs are removed)\n",
    "legitimate = pd.read_csv('DataSets/legitimate.csv')\n",
    "legit = legitimate.sample(n=2000, replace=False)\n",
    "legit.shape"
   ]
  },
  {
   "cell_type": "code",
   "execution_count": 12,
   "id": "314cab87",
   "metadata": {},
   "outputs": [
    {
     "data": {
      "text/html": [
       "<div>\n",
       "<style scoped>\n",
       "    .dataframe tbody tr th:only-of-type {\n",
       "        vertical-align: middle;\n",
       "    }\n",
       "\n",
       "    .dataframe tbody tr th {\n",
       "        vertical-align: top;\n",
       "    }\n",
       "\n",
       "    .dataframe thead th {\n",
       "        text-align: right;\n",
       "    }\n",
       "</style>\n",
       "<table border=\"1\" class=\"dataframe\">\n",
       "  <thead>\n",
       "    <tr style=\"text-align: right;\">\n",
       "      <th></th>\n",
       "      <th>url</th>\n",
       "      <th>label</th>\n",
       "    </tr>\n",
       "  </thead>\n",
       "  <tbody>\n",
       "    <tr>\n",
       "      <th>276567</th>\n",
       "      <td>https://bsku.be</td>\n",
       "      <td>0</td>\n",
       "    </tr>\n",
       "    <tr>\n",
       "      <th>14890</th>\n",
       "      <td>https://zongheng.com</td>\n",
       "      <td>0</td>\n",
       "    </tr>\n",
       "    <tr>\n",
       "      <th>815604</th>\n",
       "      <td>https://zenamas.com</td>\n",
       "      <td>0</td>\n",
       "    </tr>\n",
       "    <tr>\n",
       "      <th>576357</th>\n",
       "      <td>https://gielda-dlugow.pl</td>\n",
       "      <td>0</td>\n",
       "    </tr>\n",
       "    <tr>\n",
       "      <th>850740</th>\n",
       "      <td>https://handballaustralia.org.au</td>\n",
       "      <td>0</td>\n",
       "    </tr>\n",
       "  </tbody>\n",
       "</table>\n",
       "</div>"
      ],
      "text/plain": [
       "                                     url  label\n",
       "276567                   https://bsku.be      0\n",
       "14890               https://zongheng.com      0\n",
       "815604               https://zenamas.com      0\n",
       "576357          https://gielda-dlugow.pl      0\n",
       "850740  https://handballaustralia.org.au      0"
      ]
     },
     "execution_count": 12,
     "metadata": {},
     "output_type": "execute_result"
    }
   ],
   "source": [
    "#Add https:// to legit URL if not already present\n",
    "legit[\"url\"] = legit[\"url\"].apply(lambda x: \"https://\" + x if not x.startswith(\"https://\") and not x.startswith(\"http://\") else x)\n",
    "legit.head()"
   ]
  },
  {
   "cell_type": "code",
   "execution_count": 13,
   "id": "12ae5934",
   "metadata": {},
   "outputs": [
    {
     "data": {
      "text/plain": [
       "(4000, 2)"
      ]
     },
     "execution_count": 13,
     "metadata": {},
     "output_type": "execute_result"
    }
   ],
   "source": [
    "#Combine dataframe and shuffle data\n",
    "df = pd.concat([phish, legit], ignore_index=True).sample(frac=1).reset_index(drop=True)\n",
    "df.shape"
   ]
  },
  {
   "cell_type": "code",
   "execution_count": 14,
   "id": "bce24866",
   "metadata": {},
   "outputs": [],
   "source": [
    "import requests\n",
    "import socket\n",
    "import tldextract\n",
    "import whois\n",
    "import pandas as pd\n",
    "from bs4 import BeautifulSoup\n",
    "from urllib.parse import urlparse\n",
    "from datetime import datetime\n",
    "from concurrent.futures import ThreadPoolExecutor, as_completed"
   ]
  },
  {
   "cell_type": "code",
   "execution_count": 17,
   "id": "9a3bfb53",
   "metadata": {},
   "outputs": [],
   "source": [
    "def get_dns_record(url):\n",
    "    try:\n",
    "        domain = tldextract.extract(url).domain + '.' + tldextract.extract(url).suffix\n",
    "        dns_record = socket.gethostbyname(domain)\n",
    "        return 0\n",
    "    except Exception as e:\n",
    "        return 1"
   ]
  },
  {
   "cell_type": "code",
   "execution_count": 18,
   "id": "655ad241",
   "metadata": {},
   "outputs": [],
   "source": [
    "def get_domain_age(url):\n",
    "    try:\n",
    "        domain = tldextract.extract(url).domain + '.' + tldextract.extract(url).suffix\n",
    "        domain_info = whois.whois(domain)\n",
    "        if domain_info.creation_date:\n",
    "            if type(domain_info.creation_date) is list:\n",
    "                domain_age = (datetime.now() - domain_info.creation_date[0]).days\n",
    "            else:\n",
    "                domain_age = (datetime.now() - domain_info.creation_date).days\n",
    "            if ((domain_age / 30) > 12):\n",
    "                return 1\n",
    "            else: \n",
    "                return 0\n",
    "    except Exception as e:\n",
    "        return 1"
   ]
  },
  {
   "cell_type": "code",
   "execution_count": 19,
   "id": "424d24c2",
   "metadata": {},
   "outputs": [],
   "source": [
    "def get_html_features(url):\n",
    "    try:\n",
    "        headers = {\n",
    "            'User-Agent': 'Mozilla/5.0 (Windows NT 10.0; Win64; x64) AppleWebKit/537.36 (KHTML, like Gecko) Chrome/58.0.3029.110 Safari/537.36'}\n",
    "        response = requests.get(url, headers=headers, timeout=5)\n",
    "\n",
    "        if response.status_code == 200:\n",
    "            soup = BeautifulSoup(response.content, 'html.parser')\n",
    "\n",
    "            iframe_redirection = 0\n",
    "            if len(soup.find_all('iframe')) > 0:\n",
    "                iframe_redirection = 1  \n",
    "\n",
    "            status_bar_customization = 0\n",
    "            if soup.find('body', onmouseover='window.status'):\n",
    "                status_bar_customization = 1\n",
    "\n",
    "            disabling_right_click = 0\n",
    "            if soup.find('body', oncontextmenu='return false'):\n",
    "                disabling_right_click = 1\n",
    "\n",
    "            website_forwarding = 0\n",
    "            if soup.find('meta', attrs={'http-equiv': 'refresh'}):\n",
    "                website_forwarding = 1\n",
    "\n",
    "            return [iframe_redirection, status_bar_customization, disabling_right_click, website_forwarding]\n",
    "    except Exception as e:\n",
    "        return [1, 1, 1, 1]\n"
   ]
  },
  {
   "cell_type": "code",
   "execution_count": 20,
   "id": "06529c30",
   "metadata": {},
   "outputs": [],
   "source": [
    "def process_url(url):\n",
    "    dns_record = get_dns_record(url)\n",
    "    domain_age = get_domain_age(url)\n",
    "    html_features = get_html_features(url)\n",
    "\n",
    "    return [url, dns_record, domain_age, html_features]\n"
   ]
  },
  {
   "cell_type": "code",
   "execution_count": 21,
   "id": "1373c47d",
   "metadata": {},
   "outputs": [],
   "source": [
    "def process_urls(dataframe, max_workers=10):\n",
    "    result_list = []\n",
    "\n",
    "    # Wrap the process_url function to handle exceptions and return the URL with None values for features\n",
    "    def safe_process_url(url):\n",
    "        try:\n",
    "            return process_url(url)\n",
    "        except Exception as e:\n",
    "            return [url] + [None] * 3\n",
    "\n",
    "    # Use ThreadPoolExecutor for concurrent processing of URLs\n",
    "    with ThreadPoolExecutor(max_workers=max_workers) as executor:\n",
    "        future_to_url = {executor.submit(safe_process_url, url): url for url in dataframe['url']}\n",
    "        for future in as_completed(future_to_url):\n",
    "            result_list.append(future.result())\n",
    "\n",
    "    # Create a new DataFrame with the results and return it\n",
    "    columns = ['url', 'dns_record', 'domain_age', 'iframe_redirection', 'html_features']\n",
    "    result_df = pd.DataFrame(result_list, columns=columns)\n",
    "    return result_df"
   ]
  },
  {
   "cell_type": "code",
   "execution_count": 22,
   "id": "6dc0d787",
   "metadata": {},
   "outputs": [
    {
     "name": "stdout",
     "output_type": "stream",
     "text": [
      "Error trying to connect to socket: closing socket - timed out\n",
      "Error trying to connect to socket: closing socket - [Errno -2] Name or service not known\n",
      "Error trying to connect to socket: closing socket - timed out\n",
      "Error trying to connect to socket: closing socket - [Errno -2] Name or service not known\n",
      "Error trying to connect to socket: closing socket - [Errno -2] Name or service not known\n",
      "Error trying to connect to socket: closing socket - [Errno -2] Name or service not known\n",
      "Error trying to connect to socket: closing socket - [Errno -2] Name or service not known\n",
      "Error trying to connect to socket: closing socket - [Errno -2] Name or service not known\n",
      "Error trying to connect to socket: closing socket - [Errno -2] Name or service not known\n",
      "Error trying to connect to socket: closing socket - [Errno -2] Name or service not known\n",
      "Error trying to connect to socket: closing socket - [Errno -2] Name or service not known\n",
      "Error trying to connect to socket: closing socket - [Errno -2] Name or service not known\n",
      "Error trying to connect to socket: closing socket - [Errno -2] Name or service not known\n",
      "Error trying to connect to socket: closing socket - [Errno -2] Name or service not known\n",
      "Error trying to connect to socket: closing socket - [Errno -2] Name or service not known\n",
      "Error trying to connect to socket: closing socket - [Errno -2] Name or service not known\n",
      "Error trying to connect to socket: closing socket - [Errno -2] Name or service not known\n",
      "Error trying to connect to socket: closing socket - [Errno -2] Name or service not known\n",
      "Error trying to connect to socket: closing socket - [Errno -2] Name or service not known\n",
      "Error trying to connect to socket: closing socket - [Errno -2] Name or service not known\n",
      "Error trying to connect to socket: closing socket - [Errno -2] Name or service not known\n",
      "Error trying to connect to socket: closing socket - [Errno -2] Name or service not known\n",
      "Error trying to connect to socket: closing socket - [Errno -2] Name or service not known\n"
     ]
    },
    {
     "ename": "KeyboardInterrupt",
     "evalue": "",
     "output_type": "error",
     "traceback": [
      "\u001b[0;31m---------------------------------------------------------------------------\u001b[0m",
      "\u001b[0;31mKeyboardInterrupt\u001b[0m                         Traceback (most recent call last)",
      "Cell \u001b[0;32mIn[21], line 14\u001b[0m, in \u001b[0;36mprocess_urls\u001b[0;34m(dataframe, max_workers)\u001b[0m\n\u001b[1;32m     13\u001b[0m future_to_url \u001b[38;5;241m=\u001b[39m {executor\u001b[38;5;241m.\u001b[39msubmit(safe_process_url, url): url \u001b[38;5;28;01mfor\u001b[39;00m url \u001b[38;5;129;01min\u001b[39;00m dataframe[\u001b[38;5;124m'\u001b[39m\u001b[38;5;124murl\u001b[39m\u001b[38;5;124m'\u001b[39m]}\n\u001b[0;32m---> 14\u001b[0m \u001b[38;5;28;01mfor\u001b[39;00m future \u001b[38;5;129;01min\u001b[39;00m as_completed(future_to_url):\n\u001b[1;32m     15\u001b[0m     result_list\u001b[38;5;241m.\u001b[39mappend(future\u001b[38;5;241m.\u001b[39mresult())\n",
      "File \u001b[0;32m/usr/bin/miniconda3/lib/python3.10/concurrent/futures/_base.py:245\u001b[0m, in \u001b[0;36mas_completed\u001b[0;34m(fs, timeout)\u001b[0m\n\u001b[1;32m    241\u001b[0m         \u001b[38;5;28;01mraise\u001b[39;00m \u001b[38;5;167;01mTimeoutError\u001b[39;00m(\n\u001b[1;32m    242\u001b[0m                 \u001b[38;5;124m'\u001b[39m\u001b[38;5;132;01m%d\u001b[39;00m\u001b[38;5;124m (of \u001b[39m\u001b[38;5;132;01m%d\u001b[39;00m\u001b[38;5;124m) futures unfinished\u001b[39m\u001b[38;5;124m'\u001b[39m \u001b[38;5;241m%\u001b[39m (\n\u001b[1;32m    243\u001b[0m                 \u001b[38;5;28mlen\u001b[39m(pending), total_futures))\n\u001b[0;32m--> 245\u001b[0m \u001b[43mwaiter\u001b[49m\u001b[38;5;241;43m.\u001b[39;49m\u001b[43mevent\u001b[49m\u001b[38;5;241;43m.\u001b[39;49m\u001b[43mwait\u001b[49m\u001b[43m(\u001b[49m\u001b[43mwait_timeout\u001b[49m\u001b[43m)\u001b[49m\n\u001b[1;32m    247\u001b[0m \u001b[38;5;28;01mwith\u001b[39;00m waiter\u001b[38;5;241m.\u001b[39mlock:\n",
      "File \u001b[0;32m/usr/bin/miniconda3/lib/python3.10/threading.py:607\u001b[0m, in \u001b[0;36mEvent.wait\u001b[0;34m(self, timeout)\u001b[0m\n\u001b[1;32m    606\u001b[0m \u001b[38;5;28;01mif\u001b[39;00m \u001b[38;5;129;01mnot\u001b[39;00m signaled:\n\u001b[0;32m--> 607\u001b[0m     signaled \u001b[38;5;241m=\u001b[39m \u001b[38;5;28;43mself\u001b[39;49m\u001b[38;5;241;43m.\u001b[39;49m\u001b[43m_cond\u001b[49m\u001b[38;5;241;43m.\u001b[39;49m\u001b[43mwait\u001b[49m\u001b[43m(\u001b[49m\u001b[43mtimeout\u001b[49m\u001b[43m)\u001b[49m\n\u001b[1;32m    608\u001b[0m \u001b[38;5;28;01mreturn\u001b[39;00m signaled\n",
      "File \u001b[0;32m/usr/bin/miniconda3/lib/python3.10/threading.py:320\u001b[0m, in \u001b[0;36mCondition.wait\u001b[0;34m(self, timeout)\u001b[0m\n\u001b[1;32m    319\u001b[0m \u001b[38;5;28;01mif\u001b[39;00m timeout \u001b[38;5;129;01mis\u001b[39;00m \u001b[38;5;28;01mNone\u001b[39;00m:\n\u001b[0;32m--> 320\u001b[0m     \u001b[43mwaiter\u001b[49m\u001b[38;5;241;43m.\u001b[39;49m\u001b[43macquire\u001b[49m\u001b[43m(\u001b[49m\u001b[43m)\u001b[49m\n\u001b[1;32m    321\u001b[0m     gotit \u001b[38;5;241m=\u001b[39m \u001b[38;5;28;01mTrue\u001b[39;00m\n",
      "\u001b[0;31mKeyboardInterrupt\u001b[0m: ",
      "\nDuring handling of the above exception, another exception occurred:\n",
      "\u001b[0;31mKeyboardInterrupt\u001b[0m                         Traceback (most recent call last)",
      "Cell \u001b[0;32mIn[22], line 1\u001b[0m\n\u001b[0;32m----> 1\u001b[0m new_df \u001b[38;5;241m=\u001b[39m \u001b[43mprocess_urls\u001b[49m\u001b[43m(\u001b[49m\u001b[43mdf\u001b[49m\u001b[43m,\u001b[49m\u001b[43m \u001b[49m\u001b[43mmax_workers\u001b[49m\u001b[38;5;241;43m=\u001b[39;49m\u001b[38;5;241;43m10\u001b[39;49m\u001b[43m)\u001b[49m\n",
      "Cell \u001b[0;32mIn[21], line 12\u001b[0m, in \u001b[0;36mprocess_urls\u001b[0;34m(dataframe, max_workers)\u001b[0m\n\u001b[1;32m      9\u001b[0m         \u001b[38;5;28;01mreturn\u001b[39;00m [url] \u001b[38;5;241m+\u001b[39m [\u001b[38;5;28;01mNone\u001b[39;00m] \u001b[38;5;241m*\u001b[39m \u001b[38;5;241m3\u001b[39m\n\u001b[1;32m     11\u001b[0m \u001b[38;5;66;03m# Use ThreadPoolExecutor for concurrent processing of URLs\u001b[39;00m\n\u001b[0;32m---> 12\u001b[0m \u001b[38;5;28;01mwith\u001b[39;00m ThreadPoolExecutor(max_workers\u001b[38;5;241m=\u001b[39mmax_workers) \u001b[38;5;28;01mas\u001b[39;00m executor:\n\u001b[1;32m     13\u001b[0m     future_to_url \u001b[38;5;241m=\u001b[39m {executor\u001b[38;5;241m.\u001b[39msubmit(safe_process_url, url): url \u001b[38;5;28;01mfor\u001b[39;00m url \u001b[38;5;129;01min\u001b[39;00m dataframe[\u001b[38;5;124m'\u001b[39m\u001b[38;5;124murl\u001b[39m\u001b[38;5;124m'\u001b[39m]}\n\u001b[1;32m     14\u001b[0m     \u001b[38;5;28;01mfor\u001b[39;00m future \u001b[38;5;129;01min\u001b[39;00m as_completed(future_to_url):\n",
      "File \u001b[0;32m/usr/bin/miniconda3/lib/python3.10/concurrent/futures/_base.py:649\u001b[0m, in \u001b[0;36mExecutor.__exit__\u001b[0;34m(self, exc_type, exc_val, exc_tb)\u001b[0m\n\u001b[1;32m    648\u001b[0m \u001b[38;5;28;01mdef\u001b[39;00m \u001b[38;5;21m__exit__\u001b[39m(\u001b[38;5;28mself\u001b[39m, exc_type, exc_val, exc_tb):\n\u001b[0;32m--> 649\u001b[0m     \u001b[38;5;28;43mself\u001b[39;49m\u001b[38;5;241;43m.\u001b[39;49m\u001b[43mshutdown\u001b[49m\u001b[43m(\u001b[49m\u001b[43mwait\u001b[49m\u001b[38;5;241;43m=\u001b[39;49m\u001b[38;5;28;43;01mTrue\u001b[39;49;00m\u001b[43m)\u001b[49m\n\u001b[1;32m    650\u001b[0m     \u001b[38;5;28;01mreturn\u001b[39;00m \u001b[38;5;28;01mFalse\u001b[39;00m\n",
      "File \u001b[0;32m/usr/bin/miniconda3/lib/python3.10/concurrent/futures/thread.py:235\u001b[0m, in \u001b[0;36mThreadPoolExecutor.shutdown\u001b[0;34m(self, wait, cancel_futures)\u001b[0m\n\u001b[1;32m    233\u001b[0m \u001b[38;5;28;01mif\u001b[39;00m wait:\n\u001b[1;32m    234\u001b[0m     \u001b[38;5;28;01mfor\u001b[39;00m t \u001b[38;5;129;01min\u001b[39;00m \u001b[38;5;28mself\u001b[39m\u001b[38;5;241m.\u001b[39m_threads:\n\u001b[0;32m--> 235\u001b[0m         \u001b[43mt\u001b[49m\u001b[38;5;241;43m.\u001b[39;49m\u001b[43mjoin\u001b[49m\u001b[43m(\u001b[49m\u001b[43m)\u001b[49m\n",
      "File \u001b[0;32m/usr/bin/miniconda3/lib/python3.10/threading.py:1096\u001b[0m, in \u001b[0;36mThread.join\u001b[0;34m(self, timeout)\u001b[0m\n\u001b[1;32m   1093\u001b[0m     \u001b[38;5;28;01mraise\u001b[39;00m \u001b[38;5;167;01mRuntimeError\u001b[39;00m(\u001b[38;5;124m\"\u001b[39m\u001b[38;5;124mcannot join current thread\u001b[39m\u001b[38;5;124m\"\u001b[39m)\n\u001b[1;32m   1095\u001b[0m \u001b[38;5;28;01mif\u001b[39;00m timeout \u001b[38;5;129;01mis\u001b[39;00m \u001b[38;5;28;01mNone\u001b[39;00m:\n\u001b[0;32m-> 1096\u001b[0m     \u001b[38;5;28;43mself\u001b[39;49m\u001b[38;5;241;43m.\u001b[39;49m\u001b[43m_wait_for_tstate_lock\u001b[49m\u001b[43m(\u001b[49m\u001b[43m)\u001b[49m\n\u001b[1;32m   1097\u001b[0m \u001b[38;5;28;01melse\u001b[39;00m:\n\u001b[1;32m   1098\u001b[0m     \u001b[38;5;66;03m# the behavior of a negative timeout isn't documented, but\u001b[39;00m\n\u001b[1;32m   1099\u001b[0m     \u001b[38;5;66;03m# historically .join(timeout=x) for x<0 has acted as if timeout=0\u001b[39;00m\n\u001b[1;32m   1100\u001b[0m     \u001b[38;5;28mself\u001b[39m\u001b[38;5;241m.\u001b[39m_wait_for_tstate_lock(timeout\u001b[38;5;241m=\u001b[39m\u001b[38;5;28mmax\u001b[39m(timeout, \u001b[38;5;241m0\u001b[39m))\n",
      "File \u001b[0;32m/usr/bin/miniconda3/lib/python3.10/threading.py:1116\u001b[0m, in \u001b[0;36mThread._wait_for_tstate_lock\u001b[0;34m(self, block, timeout)\u001b[0m\n\u001b[1;32m   1113\u001b[0m     \u001b[38;5;28;01mreturn\u001b[39;00m\n\u001b[1;32m   1115\u001b[0m \u001b[38;5;28;01mtry\u001b[39;00m:\n\u001b[0;32m-> 1116\u001b[0m     \u001b[38;5;28;01mif\u001b[39;00m \u001b[43mlock\u001b[49m\u001b[38;5;241;43m.\u001b[39;49m\u001b[43macquire\u001b[49m\u001b[43m(\u001b[49m\u001b[43mblock\u001b[49m\u001b[43m,\u001b[49m\u001b[43m \u001b[49m\u001b[43mtimeout\u001b[49m\u001b[43m)\u001b[49m:\n\u001b[1;32m   1117\u001b[0m         lock\u001b[38;5;241m.\u001b[39mrelease()\n\u001b[1;32m   1118\u001b[0m         \u001b[38;5;28mself\u001b[39m\u001b[38;5;241m.\u001b[39m_stop()\n",
      "\u001b[0;31mKeyboardInterrupt\u001b[0m: "
     ]
    }
   ],
   "source": [
    "new_df = process_urls(df, max_workers=10)"
   ]
  },
  {
   "cell_type": "markdown",
   "id": "d72f9fc7",
   "metadata": {},
   "source": [
    "## URL-Based Features\n",
    "     Features are extracted from the URL itself.\n",
    "     Features include: \n",
    "        1. Presence of IP Address in the URL\n",
    "        2. Presence of '@' in the URL\n",
    "        3. URL Length\n",
    "        4. The presence of redirection in the URL\n",
    "        5. Use of URL Shortening Services\n",
    "        6. The presence of sensitive words\n",
    "        7. Number of subdomains\n",
    "        8. Having a hyphen '-' in the domain name"
   ]
  },
  {
   "cell_type": "markdown",
   "id": "02bb4b14",
   "metadata": {},
   "source": [
    "\n",
    "### Feature 1: Presence of IP Address in URL\n",
    "#### This is common in phishing scams"
   ]
  },
  {
   "cell_type": "code",
   "execution_count": 37,
   "id": "61d74f1b",
   "metadata": {},
   "outputs": [],
   "source": [
    "import ipaddress\n",
    "from urllib.parse import urlparse\n",
    "def usesIP(url):\n",
    "    try:\n",
    "        ip = ipaddress.ip_address(url)\n",
    "        return 1\n",
    "    except:\n",
    "        return 0"
   ]
  },
  {
   "cell_type": "markdown",
   "id": "72393c35",
   "metadata": {},
   "source": [
    "### Feature 2: Presence of '@' Symbol in URL\n",
    "#### The '@' symbol ignores all text proceeding it and is common in phishing scams"
   ]
  },
  {
   "cell_type": "code",
   "execution_count": 38,
   "id": "044d04c9",
   "metadata": {},
   "outputs": [],
   "source": [
    "def hasAt(url):\n",
    "    if '@' in url:\n",
    "        return 1\n",
    "    else:\n",
    "        return 0"
   ]
  },
  {
   "cell_type": "markdown",
   "id": "68ad4c4b",
   "metadata": {},
   "source": [
    "### Feature 3: URL Length\n",
    "#### Longer URLs tend to be associated with phishing scams"
   ]
  },
  {
   "cell_type": "code",
   "execution_count": 39,
   "id": "5c1a24bd",
   "metadata": {},
   "outputs": [],
   "source": [
    "def url_length(url):\n",
    "    length = len(url)\n",
    "    return length"
   ]
  },
  {
   "cell_type": "markdown",
   "id": "e5e58b78",
   "metadata": {},
   "source": [
    "### Feature 4: Redirection\n",
    "#### The presence of '//' in a URL means that redirection is present. This is common in phishing scams\n",
    "#### Checks after the 8th index to ensure that https or http is not caught"
   ]
  },
  {
   "cell_type": "code",
   "execution_count": 40,
   "id": "83f7e946",
   "metadata": {},
   "outputs": [],
   "source": [
    "import re\n",
    "def redirect(url):\n",
    "    if url[8:].find('//') >= 0:\n",
    "        return 1\n",
    "    else:\n",
    "        return 0"
   ]
  },
  {
   "cell_type": "markdown",
   "id": "fa5da59f",
   "metadata": {},
   "source": [
    "### Feature 5: URL Shortening\n",
    "#### Check for the presence of common URL shortening links which cause a redirection and are common in scams"
   ]
  },
  {
   "cell_type": "code",
   "execution_count": 41,
   "id": "b0cfe1db",
   "metadata": {},
   "outputs": [],
   "source": [
    "def isShort(url):\n",
    "    shortening_services = r\"bit\\.ly|goo\\.gl|shorte\\.st|go2l\\.ink|x\\.co|ow\\.ly|t\\.co|tinyurl|tr\\.im|is\\.gd|cli\\.gs|\" \\\n",
    "                      r\"yfrog\\.com|migre\\.me|ff\\.im|tiny\\.cc|url4\\.eu|twit\\.ac|su\\.pr|twurl\\.nl|snipurl\\.com|\" \\\n",
    "                      r\"short\\.to|BudURL\\.com|ping\\.fm|post\\.ly|Just\\.as|bkite\\.com|snipr\\.com|fic\\.kr|loopt\\.us|\" \\\n",
    "                      r\"doiop\\.com|short\\.ie|kl\\.am|wp\\.me|rubyurl\\.com|om\\.ly|to\\.ly|bit\\.do|t\\.co|lnkd\\.in|db\\.tt|\" \\\n",
    "                      r\"qr\\.ae|adf\\.ly|goo\\.gl|bitly\\.com|cur\\.lv|tinyurl\\.com|ow\\.ly|bit\\.ly|ity\\.im|q\\.gs|is\\.gd|\" \\\n",
    "                      r\"po\\.st|bc\\.vc|twitthis\\.com|u\\.to|j\\.mp|buzurl\\.com|cutt\\.us|u\\.bb|yourls\\.org|x\\.co|\" \\\n",
    "                      r\"prettylinkpro\\.com|scrnch\\.me|filoops\\.info|vzturl\\.com|qr\\.net|1url\\.com|tweez\\.me|v\\.gd|\" \\\n",
    "                      r\"tr\\.im|link\\.zip\\.net\"\n",
    "    \n",
    "    if re.search(shortening_services,url):\n",
    "        return 1\n",
    "    else:\n",
    "        return 0"
   ]
  },
  {
   "cell_type": "markdown",
   "id": "56c60f83",
   "metadata": {},
   "source": [
    "### Feature 6: Presence of Sensitive Words\n",
    "#### Phishing URLs commonly have sensitive words such as those listed below to trick unsuspecting users"
   ]
  },
  {
   "cell_type": "code",
   "execution_count": 42,
   "id": "01796300",
   "metadata": {},
   "outputs": [],
   "source": [
    "def check_sensitive_words(url):\n",
    "    sensitive_words = r\"Password|Account|Login|Verify|Security|Update|Payment|Card|Bank|Alert|Access|\" \\\n",
    "                            r\"Confirm|Information|Identity|Social Security|Verification|Fraud|Suspended|Limited|\" \\\n",
    "                            r\"Urgent|Unusual|Unauthorised|Suspicious|Lock|Reset|Expired|Invalid|Disabled|Termination|\" \\\n",
    "                            r\"Deactivation|Hack|Breach|Compromised|Phishing|Scam|Fake|Spam|Spoof|Spoofing|Impersonation|\" \\\n",
    "                            r\"Emergency|Critical|Failure|Error|Warning|Alert|Threat|Danger|Attack|Virus\"\n",
    "    if re.search(sensitive_words, url, flags=re.IGNORECASE):\n",
    "        return 1\n",
    "    else:\n",
    "        return 0"
   ]
  },
  {
   "cell_type": "markdown",
   "id": "503224ee",
   "metadata": {},
   "source": [
    "### Feature 7: Number of Subdomains\n",
    "#### Phishing scams commonly have a higher number of subdomains"
   ]
  },
  {
   "cell_type": "code",
   "execution_count": 43,
   "id": "54a0847a",
   "metadata": {},
   "outputs": [],
   "source": [
    "import tldextract\n",
    "def count_subdomains(url):\n",
    "    subdomains = tldextract.extract(url).subdomain.split('.')\n",
    "    return len(subdomains)"
   ]
  },
  {
   "cell_type": "markdown",
   "id": "879af279",
   "metadata": {},
   "source": [
    "### Feature 8: Presence of '-' in Domain\n",
    "#### This is common in phishing scams to appear to be a legitimate common website"
   ]
  },
  {
   "cell_type": "code",
   "execution_count": 44,
   "id": "167414f2",
   "metadata": {},
   "outputs": [],
   "source": [
    "import urllib\n",
    "def isHyphen(url):\n",
    "    if '-' in urlparse(url).netloc:\n",
    "        return 1            \n",
    "    else:\n",
    "        return 0   "
   ]
  },
  {
   "cell_type": "markdown",
   "id": "fdc09fa4",
   "metadata": {},
   "source": [
    "## HTML and Javascript-Based Features\n",
    "     Features are extracted from the domain.\n",
    "     Features include: \n",
    "        1. IFrame redirection\n",
    "        2. Status bar customization\n",
    "        3. Disabling right-click\n",
    "        4. Number of redirects"
   ]
  },
  {
   "cell_type": "markdown",
   "id": "cc3fbed8",
   "metadata": {},
   "source": [
    "### Feature 9: HTML Redirection\n",
    "#### Check for IFrame tags which is HTML redirection commonly present in phishing scams"
   ]
  },
  {
   "cell_type": "code",
   "execution_count": 45,
   "id": "6ba8024a",
   "metadata": {},
   "outputs": [],
   "source": [
    "import re\n",
    "import requests\n",
    "def htmlredir(response):\n",
    "    if response == \"\":\n",
    "        return 0\n",
    "    if re.findall(r\"[|]\", response.text):\n",
    "        return 1\n",
    "    else:\n",
    "        return 0"
   ]
  },
  {
   "cell_type": "markdown",
   "id": "dc028e4b",
   "metadata": {},
   "source": [
    "### Feature 10: Status Bar Customization\n",
    "#### Status bar customization commonly can hide the URL of hyperlinks and is associated with phishing"
   ]
  },
  {
   "cell_type": "code",
   "execution_count": 46,
   "id": "6a938c4f",
   "metadata": {},
   "outputs": [],
   "source": [
    "from bs4 import BeautifulSoup\n",
    "def check_status_bar(response):\n",
    "    if response == \"\":\n",
    "        return 0\n",
    "    soup = BeautifulSoup(response.content, 'html.parser')\n",
    "    anchors = soup.find_all('a')\n",
    "    for anchor in anchors:\n",
    "        if anchor.get('title') != None and len(anchor.get('title')) > 0:\n",
    "            return 1\n",
    "    return 0"
   ]
  },
  {
   "cell_type": "markdown",
   "id": "0d52f739",
   "metadata": {},
   "source": [
    "### Feature 11: Disabling Right-Click\n",
    "#### Another common phishing feature"
   ]
  },
  {
   "cell_type": "code",
   "execution_count": 47,
   "id": "8cc588b4",
   "metadata": {},
   "outputs": [],
   "source": [
    "def rightClick(response):\n",
    "  if response == \"\":\n",
    "    return 0\n",
    "  else:\n",
    "    if re.findall(r\"event.button ?== ?2\", response.text):\n",
    "      return 1\n",
    "    else:\n",
    "      return 0"
   ]
  },
  {
   "cell_type": "markdown",
   "id": "acdc7d0c",
   "metadata": {},
   "source": [
    "### Feature 12: Number of Redirects\n",
    "#### Phishing links commonly contain a higher number of redirects in their HTML"
   ]
  },
  {
   "cell_type": "code",
   "execution_count": 48,
   "id": "28e9cbb8",
   "metadata": {},
   "outputs": [],
   "source": [
    "def forwarding(response):\n",
    "  if response == \"\":\n",
    "    return 0\n",
    "  else:\n",
    "    if len(response.history) <= 2:\n",
    "      return 1\n",
    "    else:\n",
    "      return 0"
   ]
  },
  {
   "cell_type": "markdown",
   "id": "efd0c324",
   "metadata": {},
   "source": [
    "# Create new DataFrame based off of features"
   ]
  },
  {
   "cell_type": "code",
   "execution_count": 49,
   "id": "bcb4d41b",
   "metadata": {},
   "outputs": [],
   "source": [
    "from urllib.parse import urlparse\n",
    "def feature_extraction(url, label):\n",
    "    features = []\n",
    "    #URL-based features\n",
    "    features.append(usesIP(urlparse(url).hostname))\n",
    "    features.append(hasAt(url))\n",
    "    features.append(url_length(url))\n",
    "    features.append(redirect(url))\n",
    "    features.append(isShort(url))\n",
    "    features.append(check_sensitive_words(url))\n",
    "    features.append(count_subdomains(url))\n",
    "    features.append(isHyphen(url))\n",
    "\n",
    "    #HTML and Javascript-based features\n",
    "    #try:\n",
    "        #response = requests.get(url)\n",
    "    #except:\n",
    "        #response = \"\"\n",
    "    #features.append(htmlredir(response))\n",
    "    #features.append(check_status_bar(response))\n",
    "    #features.append(rightClick(response))\n",
    "    #features.append(forwarding(response))\n",
    "    \n",
    "    features.append(label)\n",
    "    \n",
    "    return features"
   ]
  },
  {
   "cell_type": "code",
   "execution_count": 50,
   "id": "16e1c1cb",
   "metadata": {},
   "outputs": [],
   "source": [
    "#Extract features for all entries\n",
    "final_features = []\n",
    "for i in range(0, 20000):\n",
    "    url = df['url'][i]\n",
    "    label = df['label'][i]\n",
    "    final_features.append(feature_extraction(url,label))"
   ]
  },
  {
   "cell_type": "code",
   "execution_count": 51,
   "id": "74cbf4d3",
   "metadata": {},
   "outputs": [],
   "source": [
    "#Create featurized dataframe\n",
    "feature_names = ['IP', '@', 'length', 'redirected', 'shortened', 'sensitive', 'subDomains', 'hyphen', 'Label']\n",
    "\n",
    "data = pd.DataFrame(final_features, columns= feature_names)"
   ]
  },
  {
   "cell_type": "code",
   "execution_count": 52,
   "id": "af742449",
   "metadata": {},
   "outputs": [],
   "source": [
    "#Store data as a csv\n",
    "data.to_csv('data.csv', index=False)"
   ]
  },
  {
   "cell_type": "code",
   "execution_count": null,
   "id": "ef90d414",
   "metadata": {},
   "outputs": [],
   "source": []
  }
 ],
 "metadata": {
  "kernelspec": {
   "display_name": "Python 3 (ipykernel)",
   "language": "python",
   "name": "python3"
  },
  "language_info": {
   "codemirror_mode": {
    "name": "ipython",
    "version": 3
   },
   "file_extension": ".py",
   "mimetype": "text/x-python",
   "name": "python",
   "nbconvert_exporter": "python",
   "pygments_lexer": "ipython3",
   "version": "3.10.10"
  }
 },
 "nbformat": 4,
 "nbformat_minor": 5
}

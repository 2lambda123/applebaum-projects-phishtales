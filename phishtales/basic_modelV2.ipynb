{
 "cells": [
  {
   "cell_type": "code",
   "execution_count": 3,
   "id": "d361655f",
   "metadata": {},
   "outputs": [
    {
     "name": "stdout",
     "output_type": "stream",
     "text": [
      "(20000, 9)\n"
     ]
    },
    {
     "data": {
      "text/html": [
       "<div>\n",
       "<style scoped>\n",
       "    .dataframe tbody tr th:only-of-type {\n",
       "        vertical-align: middle;\n",
       "    }\n",
       "\n",
       "    .dataframe tbody tr th {\n",
       "        vertical-align: top;\n",
       "    }\n",
       "\n",
       "    .dataframe thead th {\n",
       "        text-align: right;\n",
       "    }\n",
       "</style>\n",
       "<table border=\"1\" class=\"dataframe\">\n",
       "  <thead>\n",
       "    <tr style=\"text-align: right;\">\n",
       "      <th></th>\n",
       "      <th>IP</th>\n",
       "      <th>@</th>\n",
       "      <th>length</th>\n",
       "      <th>redirected</th>\n",
       "      <th>shortened</th>\n",
       "      <th>sensitive</th>\n",
       "      <th>subDomains</th>\n",
       "      <th>hyphen</th>\n",
       "      <th>Label</th>\n",
       "    </tr>\n",
       "  </thead>\n",
       "  <tbody>\n",
       "    <tr>\n",
       "      <th>count</th>\n",
       "      <td>20000.000000</td>\n",
       "      <td>20000.000000</td>\n",
       "      <td>20000.000000</td>\n",
       "      <td>20000.00000</td>\n",
       "      <td>20000.000000</td>\n",
       "      <td>20000.000000</td>\n",
       "      <td>20000.000000</td>\n",
       "      <td>20000.000000</td>\n",
       "      <td>20000.000000</td>\n",
       "    </tr>\n",
       "    <tr>\n",
       "      <th>mean</th>\n",
       "      <td>0.008200</td>\n",
       "      <td>0.014700</td>\n",
       "      <td>39.587650</td>\n",
       "      <td>0.00725</td>\n",
       "      <td>0.059250</td>\n",
       "      <td>0.081850</td>\n",
       "      <td>1.198600</td>\n",
       "      <td>0.234450</td>\n",
       "      <td>0.500000</td>\n",
       "    </tr>\n",
       "    <tr>\n",
       "      <th>std</th>\n",
       "      <td>0.090184</td>\n",
       "      <td>0.120352</td>\n",
       "      <td>59.862152</td>\n",
       "      <td>0.08484</td>\n",
       "      <td>0.236098</td>\n",
       "      <td>0.274143</td>\n",
       "      <td>0.658316</td>\n",
       "      <td>0.423665</td>\n",
       "      <td>0.500013</td>\n",
       "    </tr>\n",
       "    <tr>\n",
       "      <th>min</th>\n",
       "      <td>0.000000</td>\n",
       "      <td>0.000000</td>\n",
       "      <td>12.000000</td>\n",
       "      <td>0.00000</td>\n",
       "      <td>0.000000</td>\n",
       "      <td>0.000000</td>\n",
       "      <td>1.000000</td>\n",
       "      <td>0.000000</td>\n",
       "      <td>0.000000</td>\n",
       "    </tr>\n",
       "    <tr>\n",
       "      <th>25%</th>\n",
       "      <td>0.000000</td>\n",
       "      <td>0.000000</td>\n",
       "      <td>22.000000</td>\n",
       "      <td>0.00000</td>\n",
       "      <td>0.000000</td>\n",
       "      <td>0.000000</td>\n",
       "      <td>1.000000</td>\n",
       "      <td>0.000000</td>\n",
       "      <td>0.000000</td>\n",
       "    </tr>\n",
       "    <tr>\n",
       "      <th>50%</th>\n",
       "      <td>0.000000</td>\n",
       "      <td>0.000000</td>\n",
       "      <td>28.000000</td>\n",
       "      <td>0.00000</td>\n",
       "      <td>0.000000</td>\n",
       "      <td>0.000000</td>\n",
       "      <td>1.000000</td>\n",
       "      <td>0.000000</td>\n",
       "      <td>0.500000</td>\n",
       "    </tr>\n",
       "    <tr>\n",
       "      <th>75%</th>\n",
       "      <td>0.000000</td>\n",
       "      <td>0.000000</td>\n",
       "      <td>42.000000</td>\n",
       "      <td>0.00000</td>\n",
       "      <td>0.000000</td>\n",
       "      <td>0.000000</td>\n",
       "      <td>1.000000</td>\n",
       "      <td>0.000000</td>\n",
       "      <td>1.000000</td>\n",
       "    </tr>\n",
       "    <tr>\n",
       "      <th>max</th>\n",
       "      <td>1.000000</td>\n",
       "      <td>1.000000</td>\n",
       "      <td>5795.000000</td>\n",
       "      <td>1.00000</td>\n",
       "      <td>1.000000</td>\n",
       "      <td>1.000000</td>\n",
       "      <td>6.000000</td>\n",
       "      <td>1.000000</td>\n",
       "      <td>1.000000</td>\n",
       "    </tr>\n",
       "  </tbody>\n",
       "</table>\n",
       "</div>"
      ],
      "text/plain": [
       "                 IP             @        length   redirected     shortened   \n",
       "count  20000.000000  20000.000000  20000.000000  20000.00000  20000.000000  \\\n",
       "mean       0.008200      0.014700     39.587650      0.00725      0.059250   \n",
       "std        0.090184      0.120352     59.862152      0.08484      0.236098   \n",
       "min        0.000000      0.000000     12.000000      0.00000      0.000000   \n",
       "25%        0.000000      0.000000     22.000000      0.00000      0.000000   \n",
       "50%        0.000000      0.000000     28.000000      0.00000      0.000000   \n",
       "75%        0.000000      0.000000     42.000000      0.00000      0.000000   \n",
       "max        1.000000      1.000000   5795.000000      1.00000      1.000000   \n",
       "\n",
       "          sensitive    subDomains        hyphen         Label  \n",
       "count  20000.000000  20000.000000  20000.000000  20000.000000  \n",
       "mean       0.081850      1.198600      0.234450      0.500000  \n",
       "std        0.274143      0.658316      0.423665      0.500013  \n",
       "min        0.000000      1.000000      0.000000      0.000000  \n",
       "25%        0.000000      1.000000      0.000000      0.000000  \n",
       "50%        0.000000      1.000000      0.000000      0.500000  \n",
       "75%        0.000000      1.000000      0.000000      1.000000  \n",
       "max        1.000000      6.000000      1.000000      1.000000  "
      ]
     },
     "execution_count": 3,
     "metadata": {},
     "output_type": "execute_result"
    }
   ],
   "source": [
    "#Load raw data\n",
    "import pandas as pd\n",
    "import numpy as np\n",
    "df = pd.read_csv('data.csv')\n",
    "print(df.shape)\n",
    "df.describe()"
   ]
  },
  {
   "cell_type": "code",
   "execution_count": 5,
   "id": "a4452f5a",
   "metadata": {},
   "outputs": [],
   "source": [
    "#Split the label feature from the other features\n",
    "#Drop URL as it is a string and not encoded\n",
    "y = df['Label']\n",
    "X = df.drop(['Label'], axis=1)"
   ]
  },
  {
   "cell_type": "code",
   "execution_count": 13,
   "id": "4f02fff4",
   "metadata": {},
   "outputs": [],
   "source": [
    "#Split training and testing set\n",
    "from sklearn.model_selection import train_test_split\n",
    "\n",
    "X_train_val, X_test, y_train_val, y_test = train_test_split(X, y, \n",
    "                                                    test_size = 0.20, random_state = 6)"
   ]
  },
  {
   "cell_type": "code",
   "execution_count": 14,
   "id": "bf0f6b05",
   "metadata": {},
   "outputs": [],
   "source": [
    "#Train the Decision Tree model\n",
    "from sklearn.tree import DecisionTreeClassifier\n",
    "\n",
    "# instantiate the model \n",
    "tree = DecisionTreeClassifier(max_depth = 5)\n",
    "# fit the model \n",
    "tree.fit(X_train_val, y_train_val)\n",
    "y_test_tree = tree.predict(X_test)"
   ]
  },
  {
   "cell_type": "code",
   "execution_count": 15,
   "id": "f3a16969",
   "metadata": {},
   "outputs": [
    {
     "name": "stdout",
     "output_type": "stream",
     "text": [
      "Decision Tree accuracy is 0.8520\n"
     ]
    }
   ],
   "source": [
    "from sklearn.metrics import accuracy_score\n",
    "\n",
    "print(\"Decision Tree accuracy is {:.4f}\".format(accuracy_score(y_test, y_test_tree)))"
   ]
  },
  {
   "cell_type": "code",
   "execution_count": 16,
   "id": "533201e4",
   "metadata": {},
   "outputs": [],
   "source": [
    "#Save model\n",
    "import pickle\n",
    "\n",
    "with open('model.pkl', 'wb') as f:\n",
    "    pickle.dump(tree, f)"
   ]
  }
 ],
 "metadata": {
  "kernelspec": {
   "display_name": "Python 3 (ipykernel)",
   "language": "python",
   "name": "python3"
  },
  "language_info": {
   "codemirror_mode": {
    "name": "ipython",
    "version": 3
   },
   "file_extension": ".py",
   "mimetype": "text/x-python",
   "name": "python",
   "nbconvert_exporter": "python",
   "pygments_lexer": "ipython3",
   "version": "3.10.6"
  }
 },
 "nbformat": 4,
 "nbformat_minor": 5
}

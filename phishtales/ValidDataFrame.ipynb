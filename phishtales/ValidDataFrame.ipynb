{
 "cells": [
  {
   "cell_type": "code",
   "execution_count": 21,
   "id": "e122d7f8",
   "metadata": {},
   "outputs": [
    {
     "data": {
      "text/plain": [
       "(2000, 2)"
      ]
     },
     "execution_count": 21,
     "metadata": {},
     "output_type": "execute_result"
    }
   ],
   "source": [
    "#Phishing URLs\n",
    "import pandas as pd\n",
    "\n",
    "phishing = pd.read_csv('DataSets/phishing.csv')\n",
    "phish = phishing.sample(n=2000, replace=False)\n",
    "phish.shape"
   ]
  },
  {
   "cell_type": "code",
   "execution_count": 22,
   "id": "d6ef742f",
   "metadata": {},
   "outputs": [
    {
     "data": {
      "text/plain": [
       "(2000, 2)"
      ]
     },
     "execution_count": 22,
     "metadata": {},
     "output_type": "execute_result"
    }
   ],
   "source": [
    "#Select 75,000 legitimate URLs to be used (will shrink down once offline URLs are removed)\n",
    "legitimate = pd.read_csv('DataSets/legitimate.csv')\n",
    "legit = legitimate.sample(n=2000, replace=False)\n",
    "legit.shape"
   ]
  },
  {
   "cell_type": "code",
   "execution_count": 23,
   "id": "6457d877",
   "metadata": {},
   "outputs": [
    {
     "data": {
      "text/html": [
       "<div>\n",
       "<style scoped>\n",
       "    .dataframe tbody tr th:only-of-type {\n",
       "        vertical-align: middle;\n",
       "    }\n",
       "\n",
       "    .dataframe tbody tr th {\n",
       "        vertical-align: top;\n",
       "    }\n",
       "\n",
       "    .dataframe thead th {\n",
       "        text-align: right;\n",
       "    }\n",
       "</style>\n",
       "<table border=\"1\" class=\"dataframe\">\n",
       "  <thead>\n",
       "    <tr style=\"text-align: right;\">\n",
       "      <th></th>\n",
       "      <th>url</th>\n",
       "      <th>label</th>\n",
       "    </tr>\n",
       "  </thead>\n",
       "  <tbody>\n",
       "    <tr>\n",
       "      <th>70049</th>\n",
       "      <td>https://wpbeaverbuilder.com</td>\n",
       "      <td>0</td>\n",
       "    </tr>\n",
       "    <tr>\n",
       "      <th>192938</th>\n",
       "      <td>https://letgodbetrue.com</td>\n",
       "      <td>0</td>\n",
       "    </tr>\n",
       "    <tr>\n",
       "      <th>125346</th>\n",
       "      <td>https://adline.com</td>\n",
       "      <td>0</td>\n",
       "    </tr>\n",
       "    <tr>\n",
       "      <th>551673</th>\n",
       "      <td>https://mydinasty.com</td>\n",
       "      <td>0</td>\n",
       "    </tr>\n",
       "    <tr>\n",
       "      <th>680513</th>\n",
       "      <td>https://fenoxendustriyel.com</td>\n",
       "      <td>0</td>\n",
       "    </tr>\n",
       "  </tbody>\n",
       "</table>\n",
       "</div>"
      ],
      "text/plain": [
       "                                 url  label\n",
       "70049    https://wpbeaverbuilder.com      0\n",
       "192938      https://letgodbetrue.com      0\n",
       "125346            https://adline.com      0\n",
       "551673         https://mydinasty.com      0\n",
       "680513  https://fenoxendustriyel.com      0"
      ]
     },
     "execution_count": 23,
     "metadata": {},
     "output_type": "execute_result"
    }
   ],
   "source": [
    "#Add https:// to legit URL if not already present\n",
    "legit[\"url\"] = legit[\"url\"].apply(lambda x: \"https://\" + x if not x.startswith(\"https://\") and not x.startswith(\"http://\") else x)\n",
    "legit.head()"
   ]
  },
  {
   "cell_type": "code",
   "execution_count": 24,
   "id": "d2179815",
   "metadata": {},
   "outputs": [
    {
     "data": {
      "text/plain": [
       "(4000, 2)"
      ]
     },
     "execution_count": 24,
     "metadata": {},
     "output_type": "execute_result"
    }
   ],
   "source": [
    "#Combine dataframe and shuffle data\n",
    "df = pd.concat([phish, legit], ignore_index=True).sample(frac=1).reset_index(drop=True)\n",
    "df.shape"
   ]
  },
  {
   "cell_type": "code",
   "execution_count": 25,
   "id": "6d38db69",
   "metadata": {},
   "outputs": [],
   "source": [
    "import tldextract\n",
    "import socket\n",
    "from concurrent.futures import ThreadPoolExecutor"
   ]
  },
  {
   "cell_type": "code",
   "execution_count": 31,
   "id": "cfb9e3f5",
   "metadata": {},
   "outputs": [],
   "source": [
    "def is_valid_domain(domain):\n",
    "    extracted = tldextract.extract(domain)\n",
    "    return bool(extracted.domain) and bool(extracted.suffix)\n",
    "\n",
    "def resolve_domain(domain):\n",
    "    try:\n",
    "        ip_address = socket.gethostbyname(domain)\n",
    "        return ip_address\n",
    "    except socket.gaierror:\n",
    "        return None\n",
    "\n",
    "def connect_to_socket(domain, port, timeout=5, max_retries=3):\n",
    "    if not is_valid_domain(domain):\n",
    "        print(f\"Invalid domain: {domain}\")\n",
    "        return\n",
    "\n",
    "    ip_address = resolve_domain(domain)\n",
    "    if ip_address is None:\n",
    "        print(f\"Unable to resolve domain: {domain}\")\n",
    "        return\n",
    "\n",
    "    retries = 0\n",
    "    while retries < max_retries:\n",
    "        try:\n",
    "            sock = socket.socket(socket.AF_INET, socket.SOCK_STREAM)\n",
    "            sock.settimeout(timeout)\n",
    "            sock.connect((ip_address, port))\n",
    "            # Add your code to interact with the socket here\n",
    "            sock.close()\n",
    "            break\n",
    "        except socket.timeout:\n",
    "            print(f\"Connection to {domain}:{port} timed out. Retrying...\")\n",
    "            retries += 1\n",
    "        except socket.error as e:\n",
    "            print(f\"Error trying to connect to socket: {e}\")\n",
    "            retries += 1"
   ]
  },
  {
   "cell_type": "code",
   "execution_count": 32,
   "id": "d6045324",
   "metadata": {},
   "outputs": [],
   "source": [
    "def connect_to_socket(domain, port):\n",
    "    if not is_valid_domain(domain):\n",
    "        print(f\"Invalid domain: {domain}\")\n",
    "        return\n",
    "\n",
    "    ip_address = resolve_domain(domain)\n",
    "    if ip_address is None:\n",
    "        print(f\"Unable to resolve domain: {domain}\")\n",
    "        return\n",
    "\n",
    "    try:\n",
    "        sock = socket.socket(socket.AF_INET, socket.SOCK_STREAM)\n",
    "        sock.connect((ip_address, port))\n",
    "        # Add your code to interact with the socket here\n",
    "        sock.close()\n",
    "    except socket.error as e:\n",
    "        print(f\"Error trying to connect to socket: {e}\")\n"
   ]
  },
  {
   "cell_type": "code",
   "execution_count": 33,
   "id": "2f53afbb",
   "metadata": {},
   "outputs": [],
   "source": [
    "def process_and_filter_urls(url, port=80):\n",
    "    try:\n",
    "        domain = tldextract.extract(url).domain + '.' + tldextract.extract(url).suffix\n",
    "        if not is_valid_domain(domain):\n",
    "            return False\n",
    "\n",
    "        ip_address = resolve_domain(domain)\n",
    "        if ip_address is None:\n",
    "            return False\n",
    "\n",
    "        # Attempt to connect to the socket without retries or timeout\n",
    "        connect_to_socket(domain, port)\n",
    "\n",
    "        return True\n",
    "\n",
    "    except Exception as e:\n",
    "        print(f\"Error processing {url}: {e}\")\n",
    "        return False"
   ]
  },
  {
   "cell_type": "code",
   "execution_count": 34,
   "id": "0a31fba3",
   "metadata": {},
   "outputs": [],
   "source": [
    "def process_and_filter_urls_wrapper(args):\n",
    "    index, url = args\n",
    "    is_valid = process_and_filter_urls(url)\n",
    "    return index, is_valid"
   ]
  },
  {
   "cell_type": "code",
   "execution_count": 35,
   "id": "cdf4ad8d",
   "metadata": {},
   "outputs": [],
   "source": [
    "def process_urls_multithreaded(df, num_threads=5):\n",
    "    with ThreadPoolExecutor(max_workers=num_threads) as executor:\n",
    "        # Create a list of tuples containing the index and the URL\n",
    "        input_tuples = [(index, row.url) for index, row in df.iterrows()]\n",
    "\n",
    "        # Run the processing function in parallel\n",
    "        results = list(executor.map(process_and_filter_urls_wrapper, input_tuples))\n",
    "\n",
    "    valid_urls = [result[0] for result in results if result[1]]\n",
    "    return df.loc[valid_urls]"
   ]
  },
  {
   "cell_type": "code",
   "execution_count": 36,
   "id": "8fc5b253",
   "metadata": {},
   "outputs": [
    {
     "name": "stdout",
     "output_type": "stream",
     "text": [
      "Error trying to connect to socket: [Errno 111] Connection refused\n",
      "Error trying to connect to socket: [Errno 110] Connection timed out\n"
     ]
    },
    {
     "name": "stderr",
     "output_type": "stream",
     "text": [
      "\n",
      "KeyboardInterrupt\n",
      "\n"
     ]
    }
   ],
   "source": [
    "filtered_df = process_urls_multithreaded(df, num_threads=5)"
   ]
  },
  {
   "cell_type": "code",
   "execution_count": null,
   "id": "14d34568",
   "metadata": {},
   "outputs": [],
   "source": []
  }
 ],
 "metadata": {
  "kernelspec": {
   "display_name": "Python 3 (ipykernel)",
   "language": "python",
   "name": "python3"
  },
  "language_info": {
   "codemirror_mode": {
    "name": "ipython",
    "version": 3
   },
   "file_extension": ".py",
   "mimetype": "text/x-python",
   "name": "python",
   "nbconvert_exporter": "python",
   "pygments_lexer": "ipython3",
   "version": "3.10.10"
  }
 },
 "nbformat": 4,
 "nbformat_minor": 5
}

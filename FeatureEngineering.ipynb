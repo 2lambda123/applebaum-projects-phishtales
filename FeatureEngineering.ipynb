{
 "cells": [
  {
   "cell_type": "markdown",
   "id": "dd6d6ecb",
   "metadata": {},
   "source": [
    "# Feature Engineering\n",
    "### Create combined dataframe with phishing and legitimate URLs"
   ]
  },
  {
   "cell_type": "code",
   "execution_count": 4,
   "id": "cbed66c7",
   "metadata": {},
   "outputs": [
    {
     "data": {
      "text/plain": [
       "(51527, 2)"
      ]
     },
     "execution_count": 4,
     "metadata": {},
     "output_type": "execute_result"
    }
   ],
   "source": [
    "#Phishing URLs\n",
    "import pandas as pd\n",
    "\n",
    "phish = pd.read_csv('phishing.csv')\n",
    "phish.shape"
   ]
  },
  {
   "cell_type": "code",
   "execution_count": 5,
   "id": "33b63cc7",
   "metadata": {},
   "outputs": [
    {
     "data": {
      "text/plain": [
       "(50000, 2)"
      ]
     },
     "execution_count": 5,
     "metadata": {},
     "output_type": "execute_result"
    }
   ],
   "source": [
    "#Select 75,000 legitimate URLs to be used (will shrink down once offline URLs are removed)\n",
    "legitimate = pd.read_csv('legitimate.csv')\n",
    "legit = legitimate.sample(n=50000, replace=False)\n",
    "legit.shape"
   ]
  },
  {
   "cell_type": "code",
   "execution_count": 6,
   "id": "12ae5934",
   "metadata": {},
   "outputs": [
    {
     "data": {
      "text/plain": [
       "(101527, 2)"
      ]
     },
     "execution_count": 6,
     "metadata": {},
     "output_type": "execute_result"
    }
   ],
   "source": [
    "#Combine dataframe and shuffle data\n",
    "df = pd.concat([phish, legit], ignore_index=True).sample(frac=1).reset_index(drop=True)\n",
    "df.shape"
   ]
  },
  {
   "cell_type": "markdown",
   "id": "d72f9fc7",
   "metadata": {},
   "source": [
    "## URL-Based Features\n",
    "     Features are extracted from the URL itself.\n",
    "     Features include: \n",
    "        1. Presence of IP Address in the URL\n",
    "        2. Presence of '@' in the URL\n",
    "        3. URL Length\n",
    "        4. The presence of redirection in the URL\n",
    "        5. Use of URL Shortening Services\n",
    "        6. The presence of sensitive words\n",
    "        7. Number of subdomains\n",
    "        8. Having a hyphen '-' in the domain name"
   ]
  },
  {
   "cell_type": "markdown",
   "id": "02bb4b14",
   "metadata": {},
   "source": [
    "\n",
    "### Feature 1: Presence of IP Address in URL\n",
    "#### This is common in phishing scams"
   ]
  },
  {
   "cell_type": "code",
   "execution_count": 7,
   "id": "61d74f1b",
   "metadata": {},
   "outputs": [],
   "source": [
    "import ipaddress\n",
    "from urllib.parse import urlparse\n",
    "def usesIP(url):\n",
    "    try:\n",
    "        ip = ipaddress.ip_address(url)\n",
    "        return 1\n",
    "    except:\n",
    "        return 0"
   ]
  },
  {
   "cell_type": "markdown",
   "id": "72393c35",
   "metadata": {},
   "source": [
    "### Feature 2: Presence of '@' Symbol in URL\n",
    "#### The '@' symbol ignores all text proceeding it and is common in phishing scams"
   ]
  },
  {
   "cell_type": "code",
   "execution_count": 8,
   "id": "044d04c9",
   "metadata": {},
   "outputs": [],
   "source": [
    "def hasAt(url):\n",
    "    if '@' in url:\n",
    "        return 1\n",
    "    else:\n",
    "        return 0"
   ]
  },
  {
   "cell_type": "markdown",
   "id": "68ad4c4b",
   "metadata": {},
   "source": [
    "### Feature 3: URL Length\n",
    "#### Longer URLs tend to be associated with phishing scams"
   ]
  },
  {
   "cell_type": "code",
   "execution_count": 9,
   "id": "5c1a24bd",
   "metadata": {},
   "outputs": [],
   "source": [
    "def url_length(url):\n",
    "    length = len(url)\n",
    "    return length"
   ]
  },
  {
   "cell_type": "markdown",
   "id": "e5e58b78",
   "metadata": {},
   "source": [
    "### Feature 4: Redirection\n",
    "#### The presence of '//' in a URL means that redirection is present. This is common in phishing scams\n",
    "#### Checks after the 8th index to ensure that https or http is not caught"
   ]
  },
  {
   "cell_type": "code",
   "execution_count": 10,
   "id": "83f7e946",
   "metadata": {},
   "outputs": [],
   "source": [
    "import re\n",
    "def redirect(url):\n",
    "    if url[8:].find('//') >= 0:\n",
    "        return 1\n",
    "    else:\n",
    "        return 0"
   ]
  },
  {
   "cell_type": "markdown",
   "id": "fa5da59f",
   "metadata": {},
   "source": [
    "### Feature 5: URL Shortening\n",
    "#### Check for the presence of common URL shortening links which cause a redirection and are common in scams"
   ]
  },
  {
   "cell_type": "code",
   "execution_count": 11,
   "id": "b0cfe1db",
   "metadata": {},
   "outputs": [],
   "source": [
    "def isShort(url):\n",
    "    shortening_services = r\"bit\\.ly|goo\\.gl|shorte\\.st|go2l\\.ink|x\\.co|ow\\.ly|t\\.co|tinyurl|tr\\.im|is\\.gd|cli\\.gs|\" \\\n",
    "                      r\"yfrog\\.com|migre\\.me|ff\\.im|tiny\\.cc|url4\\.eu|twit\\.ac|su\\.pr|twurl\\.nl|snipurl\\.com|\" \\\n",
    "                      r\"short\\.to|BudURL\\.com|ping\\.fm|post\\.ly|Just\\.as|bkite\\.com|snipr\\.com|fic\\.kr|loopt\\.us|\" \\\n",
    "                      r\"doiop\\.com|short\\.ie|kl\\.am|wp\\.me|rubyurl\\.com|om\\.ly|to\\.ly|bit\\.do|t\\.co|lnkd\\.in|db\\.tt|\" \\\n",
    "                      r\"qr\\.ae|adf\\.ly|goo\\.gl|bitly\\.com|cur\\.lv|tinyurl\\.com|ow\\.ly|bit\\.ly|ity\\.im|q\\.gs|is\\.gd|\" \\\n",
    "                      r\"po\\.st|bc\\.vc|twitthis\\.com|u\\.to|j\\.mp|buzurl\\.com|cutt\\.us|u\\.bb|yourls\\.org|x\\.co|\" \\\n",
    "                      r\"prettylinkpro\\.com|scrnch\\.me|filoops\\.info|vzturl\\.com|qr\\.net|1url\\.com|tweez\\.me|v\\.gd|\" \\\n",
    "                      r\"tr\\.im|link\\.zip\\.net\"\n",
    "    \n",
    "    if re.search(shortening_services,url):\n",
    "        return 1\n",
    "    else:\n",
    "        return 0"
   ]
  },
  {
   "cell_type": "markdown",
   "id": "56c60f83",
   "metadata": {},
   "source": [
    "### Feature 6: Presence of Sensitive Words\n",
    "#### Phishing URLs commonly have sensitive words such as those listed below to trick unsuspecting users"
   ]
  },
  {
   "cell_type": "code",
   "execution_count": null,
   "id": "01796300",
   "metadata": {},
   "outputs": [],
   "source": [
    "def check_sensitive_words(url):\n",
    "    sensitive_words = r\"Password|Account|Login|Verify|Security|Update|Payment|Card|Bank|Alert|Access|\" \\\n",
    "                            r\"Confirm|Information|Identity|Social Security|Verification|Fraud|Suspended|Limited|\" \\\n",
    "                            r\"Urgent|Unusual|Unauthorised|Suspicious|Lock|Reset|Expired|Invalid|Disabled|Termination|\" \\\n",
    "                            r\"Deactivation|Hack|Breach|Compromised|Phishing|Scam|Fake|Spam|Spoof|Spoofing|Impersonation|\" \\\n",
    "                            r\"Emergency|Critical|Failure|Error|Warning|Alert|Threat|Danger|Attack|Virus\"\n",
    "    if re.search(sensitive_words, url):\n",
    "        return 1\n",
    "    else:\n",
    "        return 0"
   ]
  },
  {
   "cell_type": "markdown",
   "id": "503224ee",
   "metadata": {},
   "source": [
    "### Feature 7: Number of Subdomains\n",
    "#### Phishing scams commonly have a higher number of subdomains"
   ]
  },
  {
   "cell_type": "code",
   "execution_count": 13,
   "id": "54a0847a",
   "metadata": {},
   "outputs": [],
   "source": [
    "import tldextract\n",
    "def count_subdomains(url):\n",
    "    subdomains = tldextract.extract(url).subdomain.split('.')\n",
    "    return len(subdomains)"
   ]
  },
  {
   "cell_type": "markdown",
   "id": "879af279",
   "metadata": {},
   "source": [
    "### Feature 8: Presence of '-' in Domain\n",
    "#### This is common in phishing scams to appear to be a legitimate common website"
   ]
  },
  {
   "cell_type": "code",
   "execution_count": 14,
   "id": "167414f2",
   "metadata": {},
   "outputs": [],
   "source": [
    "def isHyphen(url):\n",
    "    if '-' in urlparse(url).netloc:\n",
    "        return 1            \n",
    "    else:\n",
    "        return 0            "
   ]
  },
  {
   "cell_type": "markdown",
   "id": "fdc09fa4",
   "metadata": {},
   "source": [
    "## HTML and Javascript-Based Features\n",
    "     Features are extracted from the domain.\n",
    "     Features include: \n",
    "        1. IFrame redirection\n",
    "        2. Status bar customization\n",
    "        3. Disabling right-click\n",
    "        4. Number of redirects"
   ]
  },
  {
   "cell_type": "markdown",
   "id": "cc3fbed8",
   "metadata": {},
   "source": [
    "### Feature 9: HTML Redirection\n",
    "#### Check for IFrame tags which is HTML redirection commonly present in phishing scams"
   ]
  },
  {
   "cell_type": "code",
   "execution_count": null,
   "id": "6ba8024a",
   "metadata": {},
   "outputs": [],
   "source": [
    "import requests\n",
    "def htmlredir(url):\n",
    "    try:\n",
    "        response = requests.get(url)\n",
    "        if re.findall(r\"[|]\", response.text):\n",
    "            return 1\n",
    "        else:\n",
    "            return 0\n",
    "    except:\n",
    "        return 0"
   ]
  },
  {
   "cell_type": "markdown",
   "id": "efd0c324",
   "metadata": {},
   "source": [
    "# Create new DataFrame based off of features"
   ]
  },
  {
   "cell_type": "code",
   "execution_count": null,
   "id": "bcb4d41b",
   "metadata": {},
   "outputs": [],
   "source": [
    "def feature_extraction(url, label):\n",
    "    features = []\n",
    "    #URL-based features\n",
    "    df['ip'] = df['url'].apply(lambda x: usesIP(urlparse(x).hostname))\n",
    "    df['@'] = df['url'].apply(lambda x: hasAt(x))\n",
    "    df['length'] = df['url'].apply(lambda x: url_length(x))\n",
    "    df['redirect'] = df['url'].apply(lambda x: redirect(x))\n",
    "    df['shortened'] = df['url'].apply(lambda x: isShort(x))\n",
    "    df['SensitiveWord'] = df['url'].apply(lambda x: check_sensitive_words(x))\n",
    "    df['SubdomainCount'] = df['url'].apply(lambda x: count_subdomains(x))\n",
    "    df['hyphen'] = df['url'].apply(lambda x: isHyphen(x))\n",
    "\n",
    "    #HTML and Javascript-based features\n",
    "    df['htmlredir'] = df['url'].apply(lambda x: htmlredir(x))\n",
    "    \n",
    "    return features\n",
    "\n",
    "df\n"
   ]
  }
 ],
 "metadata": {
  "kernelspec": {
   "display_name": "Python 3 (ipykernel)",
   "language": "python",
   "name": "python3"
  },
  "language_info": {
   "codemirror_mode": {
    "name": "ipython",
    "version": 3
   },
   "file_extension": ".py",
   "mimetype": "text/x-python",
   "name": "python",
   "nbconvert_exporter": "python",
   "pygments_lexer": "ipython3",
   "version": "3.10.10"
  }
 },
 "nbformat": 4,
 "nbformat_minor": 5
}
